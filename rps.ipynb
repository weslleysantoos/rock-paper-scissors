{
  "nbformat": 4,
  "nbformat_minor": 0,
  "metadata": {
    "colab": {
      "provenance": [],
      "authorship_tag": "ABX9TyOKjye8Q7VEhxJ/X2zTB9M2",
      "include_colab_link": true
    },
    "kernelspec": {
      "name": "python3",
      "display_name": "Python 3"
    },
    "language_info": {
      "name": "python"
    }
  },
  "cells": [
    {
      "cell_type": "markdown",
      "metadata": {
        "id": "view-in-github",
        "colab_type": "text"
      },
      "source": [
        "<a href=\"https://colab.research.google.com/github/weslleysantoos/rock-paper-scissors/blob/main/rps.ipynb\" target=\"_parent\"><img src=\"https://colab.research.google.com/assets/colab-badge.svg\" alt=\"Open In Colab\"/></a>"
      ]
    },
    {
      "cell_type": "code",
      "execution_count": 6,
      "metadata": {
        "colab": {
          "base_uri": "https://localhost:8080/"
        },
        "id": "L7aThX9movvT",
        "outputId": "45c1bd7f-68d5-4492-d221-1ed1e0184aca"
      },
      "outputs": [
        {
          "name": "stdout",
          "output_type": "stream",
          "text": [
            "'r' for rock, 'p' for paper, 's' for scissors: s\n",
            "Tie! Computer chose s too.\n",
            "Your score: 0 | Computer's score: 0\n",
            "Do you want to play again? (yes/no): yes\n",
            "'r' for rock, 'p' for paper, 's' for scissors: r\n",
            "You Won! Computer chose s.\n",
            "Your score: 1 | Computer's score: 0\n",
            "Do you want to play again? (yes/no): no\n"
          ]
        }
      ],
      "source": [
        "import random\n",
        "\n",
        "def get_user_choice():\n",
        "    while True:\n",
        "        user = input(\"'r' for rock, 'p' for paper, 's' for scissors: \")\n",
        "        if user in ['r', 'p', 's']:\n",
        "            return user\n",
        "        else:\n",
        "            print(\"Invalid input. Please enter 'r', 'p', or 's'.\")\n",
        "\n",
        "def play():\n",
        "    user = get_user_choice()\n",
        "    computer = random.choice(['r', 'p', 's'])\n",
        "\n",
        "    if user == computer:\n",
        "        return f'Tie! Computer chose {computer} too.'\n",
        "\n",
        "    if is_win(user, computer):\n",
        "        return f'You Won! Computer chose {computer}.'\n",
        "\n",
        "    return f'You Lost! Computer chose {computer}.'\n",
        "\n",
        "def is_win(player, opponent):\n",
        "    if (player == 'r' and opponent == 's') or \\\n",
        "       (player == 's' and opponent == 'p') or \\\n",
        "       (player == 'p' and opponent == 'r'):\n",
        "        return True\n",
        "    else:\n",
        "        return False\n",
        "\n",
        "def game():\n",
        "    user_score = 0\n",
        "    computer_score = 0\n",
        "\n",
        "    while True:\n",
        "        result = play()\n",
        "        print(result)\n",
        "\n",
        "        if 'You Won!' in result:\n",
        "            user_score += 1\n",
        "        elif 'You Lost!' in result:\n",
        "            computer_score += 1\n",
        "\n",
        "        print(f\"Your score: {user_score} | Computer's score: {computer_score}\")\n",
        "\n",
        "        play_again = input(\"Do you want to play again? (yes/no): \")\n",
        "        if play_again.lower() != 'yes':\n",
        "            break\n",
        "\n",
        "if __name__ == \"__main__\":\n",
        "    game()\n"
      ]
    }
  ]
}